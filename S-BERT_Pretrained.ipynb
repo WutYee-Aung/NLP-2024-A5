{
 "cells": [
  {
   "cell_type": "code",
   "execution_count": 6,
   "metadata": {},
   "outputs": [],
   "source": [
    "from sentence_transformers import SentenceTransformer, util\n",
    "\n",
    "sbert_model = SentenceTransformer('paraphrase-distilroberta-base-v1')"
   ]
  },
  {
   "cell_type": "code",
   "execution_count": 7,
   "metadata": {},
   "outputs": [
    {
     "name": "stdout",
     "output_type": "stream",
     "text": [
      "Similarity Score: 0.7501562237739563\n"
     ]
    }
   ],
   "source": [
    "sentence_a = \"Your contribution helped make it possible for us to provide our students with a quality education.\"\n",
    "sentence_b = \"Your contributions were of no help with our students' education.\"\n",
    "\n",
    "embeddings_a = sbert_model.encode(sentence_a, convert_to_tensor=True)\n",
    "embeddings_b = sbert_model.encode(sentence_b, convert_to_tensor=True)\n",
    "\n",
    "similarity_score = util.pytorch_cos_sim(embeddings_a, embeddings_b).item()\n",
    "\n",
    "print(f\"Similarity Score: {similarity_score}\")"
   ]
  },
  {
   "cell_type": "code",
   "execution_count": 8,
   "metadata": {},
   "outputs": [
    {
     "name": "stdout",
     "output_type": "stream",
     "text": [
      "Similarity Score: 0.04583383724093437\n"
     ]
    }
   ],
   "source": [
    "# Example sentences\n",
    "sentence_a = \"My name is Wut Yee\"\n",
    "sentence_b = \"Birds are flying.\"\n",
    "\n",
    "# Get embeddings for the sentences\n",
    "embeddings_a = sbert_model.encode(sentence_a, convert_to_tensor=True)\n",
    "embeddings_b = sbert_model.encode(sentence_b, convert_to_tensor=True)\n",
    "\n",
    "# Calculate cosine similarity between the embeddings\n",
    "similarity_score = util.pytorch_cos_sim(embeddings_a, embeddings_b).item()\n",
    "\n",
    "print(f\"Similarity Score: {similarity_score}\")"
   ]
  }
 ],
 "metadata": {
  "kernelspec": {
   "display_name": "Python 3",
   "language": "python",
   "name": "python3"
  },
  "language_info": {
   "codemirror_mode": {
    "name": "ipython",
    "version": 3
   },
   "file_extension": ".py",
   "mimetype": "text/x-python",
   "name": "python",
   "nbconvert_exporter": "python",
   "pygments_lexer": "ipython3",
   "version": "3.11.8"
  }
 },
 "nbformat": 4,
 "nbformat_minor": 2
}
